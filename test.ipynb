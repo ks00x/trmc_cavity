{
 "cells": [
  {
   "cell_type": "code",
   "execution_count": 7,
   "metadata": {},
   "outputs": [
    {
     "name": "stdout",
     "output_type": "stream",
     "text": [
      "{'a': 22.86, 'b': 10.16, 'd1': 36, 'd2': 12, 'd_iris': 9.6, 'copper_S': 55000000.0, 'loss_fac': 1e-07, 'layer_t': 0.001, 'layer_epsr': 1, 'layer_sig': 0, 'sub_t': 1, 'sub_epsr': 3.6, 'sub_sig': 0}\n"
     ]
    },
    {
     "data": {
      "image/png": "[encoded data removed]",
      "text/plain": [
       "<Figure size 432x288 with 1 Axes>"
      ]
     },
     "metadata": {
      "needs_background": "light"
     },
     "output_type": "display_data"
    },
    {
     "name": "stdout",
     "output_type": "stream",
     "text": [
      "8.486999999999785\n",
      "k-factor = -0.0\n",
      "a FEM simulation with the given parameters gives roughly k = 3000\n"
     ]
    }
   ],
   "source": [
    "import numpy as np\n",
    "from trmc_network import S11ghz\n",
    "import matplotlib.pyplot as plt\n",
    "\n",
    "\n",
    "f = np.arange(8.1,9.2,0.001)\n",
    "#f = np.arange(25,40,0.01)\n",
    "\n",
    "s = S11ghz()\n",
    "print(vars(s))\n",
    "\n",
    "s11 = [s.calc(x) for x in f]\n",
    "\n",
    "plt.plot(f,s11)\n",
    "plt.show()\n",
    "\n",
    "s11 = np.array(s11)\n",
    "k = s11.argmin()\n",
    "\n",
    "print(f[k])\n",
    "\n",
    "\n",
    "print(f'k-factor = {s.kfactor(f[k])}')\n",
    "print('a FEM simulation with the given parameters gives roughly k = 3000')\n"
   ]
  },
  {
   "cell_type": "code",
   "execution_count": null,
   "metadata": {},
   "outputs": [],
   "source": []
  }
 ],
 "metadata": {
  "interpreter": {
   "hash": "15ef0deee1acbd9d65d1bcf96b95518af6014db08288086d6526e88bb04a3c8d"
  },
  "kernelspec": {
   "display_name": "Python 3.8.5 64-bit ('std3': conda)",
   "language": "python",
   "name": "python3"
  },
  "language_info": {
   "codemirror_mode": {
    "name": "ipython",
    "version": 3
   },
   "file_extension": ".py",
   "mimetype": "text/x-python",
   "name": "python",
   "nbconvert_exporter": "python",
   "pygments_lexer": "ipython3",
   "version": "3.8.5"
  },
  "orig_nbformat": 4
 },
 "nbformat": 4,
 "nbformat_minor": 2
}
